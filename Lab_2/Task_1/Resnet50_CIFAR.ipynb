{
  "nbformat": 4,
  "nbformat_minor": 0,
  "metadata": {
    "colab": {
      "provenance": [],
      "gpuType": "T4",
      "authorship_tag": "ABX9TyNgk9/w/EkSgF8zga1QN/m+",
      "include_colab_link": true
    },
    "kernelspec": {
      "name": "python3",
      "display_name": "Python 3"
    },
    "language_info": {
      "name": "python"
    },
    "accelerator": "GPU"
  },
  "cells": [
    {
      "cell_type": "markdown",
      "metadata": {
        "id": "view-in-github",
        "colab_type": "text"
      },
      "source": [
        "<a href=\"https://colab.research.google.com/github/Bolorooo24/CV-ML_labs/blob/main/Lab_2/Task_1/Resnet50_CIFAR.ipynb\" target=\"_parent\"><img src=\"https://colab.research.google.com/assets/colab-badge.svg\" alt=\"Open In Colab\"/></a>"
      ]
    },
    {
      "cell_type": "code",
      "execution_count": 17,
      "metadata": {
        "id": "fBPnQ6i9abqo"
      },
      "outputs": [],
      "source": [
        "\n",
        "import torch\n",
        "import torchvision\n",
        "import torchvision.transforms as transforms\n",
        "import torch.nn as nn\n",
        "import torch.nn.functional as F\n",
        "import torch.optim as optim\n",
        "import torchvision.models as models\n",
        "import cv2\n",
        "import numpy as np\n",
        "from matplotlib import pyplot as plt\n",
        "from torchvision import datasets\n",
        "device = torch.device(\"cuda:0\" if torch.cuda.is_available() else \"cpu\")"
      ]
    },
    {
      "cell_type": "code",
      "source": [
        "batch_size = 128"
      ],
      "metadata": {
        "id": "x6Y9Dqzgav-0"
      },
      "execution_count": 2,
      "outputs": []
    },
    {
      "cell_type": "code",
      "source": [
        "transform = transforms.Compose(\n",
        "    [transforms.ToTensor()])"
      ],
      "metadata": {
        "id": "3l-PBQB_axtz"
      },
      "execution_count": 3,
      "outputs": []
    },
    {
      "cell_type": "code",
      "source": [
        "trainset = torchvision.datasets.CIFAR10(root='./cifar', train=True,\n",
        "                                        download=True, transform=transform)\n",
        "train_loader = torch.utils.data.DataLoader(trainset, batch_size=batch_size,\n",
        "                                          shuffle=True, num_workers=4)\n",
        "\n",
        "testset = torchvision.datasets.CIFAR10(root='./cifar', train=False,\n",
        "                                       download=True, transform=transform)\n",
        "test_loader = torch.utils.data.DataLoader(testset, batch_size=batch_size,\n",
        "                                         shuffle=False, num_workers=4)\n",
        "\n",
        "classes = ('plane', 'car', 'bird', 'cat',\n",
        "           'deer', 'dog', 'frog', 'horse', 'ship', 'truck')"
      ],
      "metadata": {
        "colab": {
          "base_uri": "https://localhost:8080/"
        },
        "id": "3fKSc2Rzay95",
        "outputId": "89ee13b6-2493-4337-852d-340e6a613ca5"
      },
      "execution_count": 4,
      "outputs": [
        {
          "output_type": "stream",
          "name": "stdout",
          "text": [
            "Downloading https://www.cs.toronto.edu/~kriz/cifar-10-python.tar.gz to ./cifar/cifar-10-python.tar.gz\n"
          ]
        },
        {
          "output_type": "stream",
          "name": "stderr",
          "text": [
            "100%|██████████| 170M/170M [00:13<00:00, 12.8MB/s]\n"
          ]
        },
        {
          "output_type": "stream",
          "name": "stdout",
          "text": [
            "Extracting ./cifar/cifar-10-python.tar.gz to ./cifar\n"
          ]
        },
        {
          "output_type": "stream",
          "name": "stderr",
          "text": [
            "/usr/local/lib/python3.10/dist-packages/torch/utils/data/dataloader.py:617: UserWarning: This DataLoader will create 4 worker processes in total. Our suggested max number of worker in current system is 2, which is smaller than what this DataLoader is going to create. Please be aware that excessive worker creation might get DataLoader running slow or even freeze, lower the worker number to avoid potential slowness/freeze if necessary.\n",
            "  warnings.warn(\n"
          ]
        },
        {
          "output_type": "stream",
          "name": "stdout",
          "text": [
            "Files already downloaded and verified\n"
          ]
        }
      ]
    },
    {
      "cell_type": "code",
      "source": [
        "class ResNet50CustomInput(nn.Module):\n",
        "    def __init__(self, num_classes, input_channels):\n",
        "        super(ResNet50CustomInput, self).__init__()\n",
        "\n",
        "        # Load the pre-trained ResNet-50 model without the final classification layer\n",
        "        self.resnet = models.resnet50(pretrained=True)\n",
        "        # Remove the original fully connected layer\n",
        "        self.resnet = nn.Sequential(*list(self.resnet.children())[:-2])\n",
        "\n",
        "        # Modify the first convolution layer to accept smaller input\n",
        "        self.resnet[0] = nn.Conv2d(input_channels, 64, kernel_size=3, stride=1, padding=1, bias=False)\n",
        "\n",
        "        # Adaptive average pooling layer to adapt to different input sizes\n",
        "        self.avgpool = nn.AdaptiveAvgPool2d(1)\n",
        "\n",
        "        # New fully connected layer for your specific number of classes\n",
        "        self.fc = nn.Linear(2048, num_classes)\n",
        "\n",
        "    def forward(self, x):\n",
        "        x = self.resnet(x)\n",
        "        x = self.avgpool(x)\n",
        "        x = x.view(x.size(0), -1)\n",
        "        x = self.fc(x)\n",
        "        return x\n",
        "\n",
        "# Instantiate the modified ResNet-50 model\n",
        "num_classes = 10  # Adjust to your specific number of classes\n",
        "input_channels = 3  # Adjust to match your input data channels\n",
        "model = ResNet50CustomInput(num_classes, input_channels)\n",
        "model = model.to(device)"
      ],
      "metadata": {
        "colab": {
          "base_uri": "https://localhost:8080/"
        },
        "id": "1rJSB2zna4GS",
        "outputId": "a5d63361-a07e-45d6-c2e1-eb831b3c1a4b"
      },
      "execution_count": 6,
      "outputs": [
        {
          "output_type": "stream",
          "name": "stderr",
          "text": [
            "/usr/local/lib/python3.10/dist-packages/torchvision/models/_utils.py:208: UserWarning: The parameter 'pretrained' is deprecated since 0.13 and may be removed in the future, please use 'weights' instead.\n",
            "  warnings.warn(\n",
            "/usr/local/lib/python3.10/dist-packages/torchvision/models/_utils.py:223: UserWarning: Arguments other than a weight enum or `None` for 'weights' are deprecated since 0.13 and may be removed in the future. The current behavior is equivalent to passing `weights=ResNet50_Weights.IMAGENET1K_V1`. You can also use `weights=ResNet50_Weights.DEFAULT` to get the most up-to-date weights.\n",
            "  warnings.warn(msg)\n",
            "Downloading: \"https://download.pytorch.org/models/resnet50-0676ba61.pth\" to /root/.cache/torch/hub/checkpoints/resnet50-0676ba61.pth\n",
            "100%|██████████| 97.8M/97.8M [00:01<00:00, 98.3MB/s]\n"
          ]
        }
      ]
    },
    {
      "cell_type": "code",
      "source": [
        "criterion = nn.CrossEntropyLoss()\n",
        "optimizer = optim.Adam(model.parameters(), lr=0.001)"
      ],
      "metadata": {
        "id": "_bH-sbeFa6oK"
      },
      "execution_count": 7,
      "outputs": []
    },
    {
      "cell_type": "code",
      "source": [
        "def train(model, train_loader, optimizer, criterion, epoch):\n",
        "    model.train()\n",
        "    for batch_idx, data in enumerate(train_loader):\n",
        "        inputs, labels = data\n",
        "        inputs, labels = inputs.to(device), labels.to(device)\n",
        "        optimizer.zero_grad()\n",
        "        output = model(inputs)\n",
        "        loss = criterion(output, labels)\n",
        "        loss.backward()\n",
        "        optimizer.step()\n",
        "        if batch_idx % 100 == 0:\n",
        "            print('Train Epoch: {} [{}/{} ({:.0f}%)]\\tLoss: {:.6f}'.format(\n",
        "                epoch, batch_idx * len(inputs), len(train_loader.dataset),\n",
        "                100. * batch_idx / len(train_loader), loss.item()))"
      ],
      "metadata": {
        "id": "rU7E2bwPa9gp"
      },
      "execution_count": 8,
      "outputs": []
    },
    {
      "cell_type": "code",
      "source": [
        "def test(model, test_loader):\n",
        "    model.eval()\n",
        "    test_loss = 0\n",
        "    correct = 0\n",
        "    with torch.no_grad():\n",
        "        for data in test_loader:\n",
        "            inputs, labels = data\n",
        "            inputs, labels = inputs.to(device), labels.to(device)\n",
        "            output = model(inputs)\n",
        "            test_loss += criterion(output, labels).item()\n",
        "            pred = output.argmax(dim=1, keepdim=True)\n",
        "            correct += pred.eq(labels.view_as(pred)).sum().item()\n",
        "\n",
        "    test_loss /= len(test_loader.dataset)\n",
        "    accuracy = 100. * correct / len(test_loader.dataset)\n",
        "    print('\\nTest set: Average loss: {:.4f}, Accuracy: {}/{} ({:.2f}%)\\n'.format(\n",
        "        test_loss, correct, len(test_loader.dataset), accuracy))"
      ],
      "metadata": {
        "id": "PMsSbD1bbC0o"
      },
      "execution_count": 9,
      "outputs": []
    },
    {
      "cell_type": "code",
      "source": [
        "epochs = 10\n",
        "for epoch in range(1, epochs + 1):\n",
        "    train(model, train_loader, optimizer, criterion, epoch)\n",
        "    test(model, test_loader)\n",
        "    torch.save(model.state_dict(), 'cifar_resnet50_model.pth')\n",
        "    print('model saved')"
      ],
      "metadata": {
        "colab": {
          "base_uri": "https://localhost:8080/"
        },
        "id": "ZvNbF4WNbEyu",
        "outputId": "3064f003-c731-48fc-83ff-9e53ed1e3e72"
      },
      "execution_count": 10,
      "outputs": [
        {
          "output_type": "stream",
          "name": "stdout",
          "text": [
            "Train Epoch: 1 [0/50000 (0%)]\tLoss: 2.473721\n",
            "Train Epoch: 1 [12800/50000 (26%)]\tLoss: 1.038339\n",
            "Train Epoch: 1 [25600/50000 (51%)]\tLoss: 0.794336\n",
            "Train Epoch: 1 [38400/50000 (77%)]\tLoss: 0.924060\n",
            "\n",
            "Test set: Average loss: 0.0070, Accuracy: 6905/10000 (69.05%)\n",
            "\n",
            "model saved\n",
            "Train Epoch: 2 [0/50000 (0%)]\tLoss: 0.651869\n",
            "Train Epoch: 2 [12800/50000 (26%)]\tLoss: 0.468148\n",
            "Train Epoch: 2 [25600/50000 (51%)]\tLoss: 0.443098\n",
            "Train Epoch: 2 [38400/50000 (77%)]\tLoss: 0.500616\n",
            "\n",
            "Test set: Average loss: 0.0055, Accuracy: 7595/10000 (75.95%)\n",
            "\n",
            "model saved\n",
            "Train Epoch: 3 [0/50000 (0%)]\tLoss: 0.341400\n",
            "Train Epoch: 3 [12800/50000 (26%)]\tLoss: 0.243552\n",
            "Train Epoch: 3 [25600/50000 (51%)]\tLoss: 0.414713\n",
            "Train Epoch: 3 [38400/50000 (77%)]\tLoss: 0.363834\n",
            "\n",
            "Test set: Average loss: 0.0048, Accuracy: 7992/10000 (79.92%)\n",
            "\n",
            "model saved\n",
            "Train Epoch: 4 [0/50000 (0%)]\tLoss: 0.296920\n",
            "Train Epoch: 4 [12800/50000 (26%)]\tLoss: 0.230908\n",
            "Train Epoch: 4 [25600/50000 (51%)]\tLoss: 0.163810\n",
            "Train Epoch: 4 [38400/50000 (77%)]\tLoss: 0.405267\n",
            "\n",
            "Test set: Average loss: 0.0049, Accuracy: 8016/10000 (80.16%)\n",
            "\n",
            "model saved\n",
            "Train Epoch: 5 [0/50000 (0%)]\tLoss: 0.201048\n",
            "Train Epoch: 5 [12800/50000 (26%)]\tLoss: 0.235580\n",
            "Train Epoch: 5 [25600/50000 (51%)]\tLoss: 0.213244\n",
            "Train Epoch: 5 [38400/50000 (77%)]\tLoss: 0.231975\n",
            "\n",
            "Test set: Average loss: 0.0044, Accuracy: 8276/10000 (82.76%)\n",
            "\n",
            "model saved\n",
            "Train Epoch: 6 [0/50000 (0%)]\tLoss: 0.093762\n",
            "Train Epoch: 6 [12800/50000 (26%)]\tLoss: 0.201615\n",
            "Train Epoch: 6 [25600/50000 (51%)]\tLoss: 0.134251\n",
            "Train Epoch: 6 [38400/50000 (77%)]\tLoss: 0.244584\n",
            "\n",
            "Test set: Average loss: 0.0044, Accuracy: 8327/10000 (83.27%)\n",
            "\n",
            "model saved\n",
            "Train Epoch: 7 [0/50000 (0%)]\tLoss: 0.092505\n",
            "Train Epoch: 7 [12800/50000 (26%)]\tLoss: 0.107224\n",
            "Train Epoch: 7 [25600/50000 (51%)]\tLoss: 0.109019\n",
            "Train Epoch: 7 [38400/50000 (77%)]\tLoss: 0.236600\n",
            "\n",
            "Test set: Average loss: 0.0058, Accuracy: 8015/10000 (80.15%)\n",
            "\n",
            "model saved\n",
            "Train Epoch: 8 [0/50000 (0%)]\tLoss: 0.145959\n",
            "Train Epoch: 8 [12800/50000 (26%)]\tLoss: 0.071746\n",
            "Train Epoch: 8 [25600/50000 (51%)]\tLoss: 0.093277\n",
            "Train Epoch: 8 [38400/50000 (77%)]\tLoss: 0.156919\n",
            "\n",
            "Test set: Average loss: 0.0052, Accuracy: 8191/10000 (81.91%)\n",
            "\n",
            "model saved\n",
            "Train Epoch: 9 [0/50000 (0%)]\tLoss: 0.081739\n",
            "Train Epoch: 9 [12800/50000 (26%)]\tLoss: 0.043143\n",
            "Train Epoch: 9 [25600/50000 (51%)]\tLoss: 0.081061\n",
            "Train Epoch: 9 [38400/50000 (77%)]\tLoss: 0.065136\n",
            "\n",
            "Test set: Average loss: 0.0059, Accuracy: 8142/10000 (81.42%)\n",
            "\n",
            "model saved\n",
            "Train Epoch: 10 [0/50000 (0%)]\tLoss: 0.051659\n",
            "Train Epoch: 10 [12800/50000 (26%)]\tLoss: 0.057995\n",
            "Train Epoch: 10 [25600/50000 (51%)]\tLoss: 0.147114\n",
            "Train Epoch: 10 [38400/50000 (77%)]\tLoss: 0.103800\n",
            "\n",
            "Test set: Average loss: 0.0050, Accuracy: 8384/10000 (83.84%)\n",
            "\n",
            "model saved\n"
          ]
        }
      ]
    },
    {
      "cell_type": "code",
      "source": [
        "loaded_net = ResNet50CustomInput(num_classes, input_channels)\n",
        "checkpoint = torch.load('cifar_resnet50_model.pth')\n",
        "loaded_net.load_state_dict(checkpoint)\n",
        "loaded_net = loaded_net.to(device)"
      ],
      "metadata": {
        "colab": {
          "base_uri": "https://localhost:8080/"
        },
        "id": "U5tV5Ht6bGQX",
        "outputId": "44619fad-8bca-4c3a-b88b-2e2a584f8034"
      },
      "execution_count": 12,
      "outputs": [
        {
          "output_type": "stream",
          "name": "stderr",
          "text": [
            "<ipython-input-12-c9f157699bfc>:2: FutureWarning: You are using `torch.load` with `weights_only=False` (the current default value), which uses the default pickle module implicitly. It is possible to construct malicious pickle data which will execute arbitrary code during unpickling (See https://github.com/pytorch/pytorch/blob/main/SECURITY.md#untrusted-models for more details). In a future release, the default value for `weights_only` will be flipped to `True`. This limits the functions that could be executed during unpickling. Arbitrary objects will no longer be allowed to be loaded via this mode unless they are explicitly allowlisted by the user via `torch.serialization.add_safe_globals`. We recommend you start setting `weights_only=True` for any use case where you don't have full control of the loaded file. Please open an issue on GitHub for any issues related to this experimental feature.\n",
            "  checkpoint = torch.load('cifar_resnet50_model.pth')\n"
          ]
        }
      ]
    },
    {
      "cell_type": "code",
      "source": [
        "\n",
        "transform = transforms.Compose([\n",
        "    transforms.ToPILImage(),\n",
        "    transforms.Resize((32, 32)),\n",
        "    transforms.ToTensor(),\n",
        "])\n",
        "\n",
        "\n",
        "dataset = datasets.CIFAR10(root='./cifar', train=True, download=True)\n",
        "\n",
        "\n",
        "image, label = dataset[2]\n",
        "classes = dataset.classes\n",
        "image_np = np.array(image)\n",
        "\n",
        "\n",
        "image = cv2.cvtColor(image_np, cv2.COLOR_RGB2BGR)\n",
        "\n",
        "\n",
        "input_image = transform(image_np)\n",
        "input_image = input_image.unsqueeze(0)\n",
        "input_image = input_image.to(device)\n",
        "\n",
        "with torch.no_grad():\n",
        "\n",
        "    outputs = loaded_net(input_image)\n",
        "    _, predicted = torch.max(outputs, 1)\n",
        "\n",
        "predicted_class = classes[predicted.item()]\n",
        "\n",
        "confidence = torch.softmax(outputs, dim=1)[0][predicted.item()].item()\n",
        "\n",
        "\n",
        "plt.imshow(image_np)\n",
        "plt.title(f'Predicted Class: {predicted_class}\\nConfidence: {confidence:.2f}')\n",
        "plt.axis('off')\n",
        "plt.show()\n"
      ],
      "metadata": {
        "colab": {
          "base_uri": "https://localhost:8080/",
          "height": 466
        },
        "id": "AhciappLbI9B",
        "outputId": "d3b3ef42-5c42-448c-dea8-3f06f0755776"
      },
      "execution_count": 19,
      "outputs": [
        {
          "output_type": "stream",
          "name": "stdout",
          "text": [
            "Files already downloaded and verified\n"
          ]
        },
        {
          "output_type": "display_data",
          "data": {
            "text/plain": [
              "<Figure size 640x480 with 1 Axes>"
            ],
            "image/png": "[encoded data removed]"
          },
          "metadata": {}
        }
      ]
    },
    {
      "cell_type": "code",
      "source": [
        "\n",
        "transform = transforms.Compose([\n",
        "    transforms.ToPILImage(),\n",
        "    transforms.Resize((32, 32)),\n",
        "    transforms.ToTensor(),\n",
        "])\n",
        "\n",
        "\n",
        "dataset = datasets.CIFAR10(root='./cifar', train=True, download=True)\n",
        "\n",
        "\n",
        "image, label = dataset[3]\n",
        "classes = dataset.classes\n",
        "image_np = np.array(image)\n",
        "\n",
        "\n",
        "image = cv2.cvtColor(image_np, cv2.COLOR_RGB2BGR)\n",
        "\n",
        "\n",
        "input_image = transform(image_np)\n",
        "input_image = input_image.unsqueeze(0)\n",
        "input_image = input_image.to(device)\n",
        "\n",
        "with torch.no_grad():\n",
        "\n",
        "    outputs = loaded_net(input_image)\n",
        "    _, predicted = torch.max(outputs, 1)\n",
        "\n",
        "predicted_class = classes[predicted.item()]\n",
        "\n",
        "confidence = torch.softmax(outputs, dim=1)[0][predicted.item()].item()\n",
        "\n",
        "\n",
        "plt.imshow(image_np)\n",
        "plt.title(f'Predicted Class: {predicted_class}\\nConfidence: {confidence:.2f}')\n",
        "plt.axis('off')\n",
        "plt.show()\n"
      ],
      "metadata": {
        "colab": {
          "base_uri": "https://localhost:8080/",
          "height": 466
        },
        "id": "JQyMHHezdVvz",
        "outputId": "ce675e73-0551-4cde-d0de-cb2cf2f55e7a"
      },
      "execution_count": 22,
      "outputs": [
        {
          "output_type": "stream",
          "name": "stdout",
          "text": [
            "Files already downloaded and verified\n"
          ]
        },
        {
          "output_type": "display_data",
          "data": {
            "text/plain": [
              "<Figure size 640x480 with 1 Axes>"
            ],
            "image/png": "[encoded data removed]"
          },
          "metadata": {}
        }
      ]
    },
    {
      "cell_type": "code",
      "source": [
        "\n",
        "transform = transforms.Compose([\n",
        "    transforms.ToPILImage(),\n",
        "    transforms.Resize((32, 32)),\n",
        "    transforms.ToTensor(),\n",
        "])\n",
        "\n",
        "\n",
        "dataset = datasets.CIFAR10(root='./cifar', train=True, download=True)\n",
        "\n",
        "\n",
        "image, label = dataset[4]\n",
        "classes = dataset.classes\n",
        "image_np = np.array(image)\n",
        "\n",
        "\n",
        "image = cv2.cvtColor(image_np, cv2.COLOR_RGB2BGR)\n",
        "\n",
        "\n",
        "input_image = transform(image_np)\n",
        "input_image = input_image.unsqueeze(0)\n",
        "input_image = input_image.to(device)\n",
        "\n",
        "with torch.no_grad():\n",
        "\n",
        "    outputs = loaded_net(input_image)\n",
        "    _, predicted = torch.max(outputs, 1)\n",
        "\n",
        "predicted_class = classes[predicted.item()]\n",
        "\n",
        "confidence = torch.softmax(outputs, dim=1)[0][predicted.item()].item()\n",
        "\n",
        "\n",
        "plt.imshow(image_np)\n",
        "plt.title(f'Predicted Class: {predicted_class}\\nConfidence: {confidence:.2f}')\n",
        "plt.axis('off')\n",
        "plt.show()\n"
      ],
      "metadata": {
        "colab": {
          "base_uri": "https://localhost:8080/",
          "height": 466
        },
        "id": "YqMuyXK1d-8A",
        "outputId": "e369a57f-5cda-421c-d5c7-07b195ed16af"
      },
      "execution_count": 28,
      "outputs": [
        {
          "output_type": "stream",
          "name": "stdout",
          "text": [
            "Files already downloaded and verified\n"
          ]
        },
        {
          "output_type": "display_data",
          "data": {
            "text/plain": [
              "<Figure size 640x480 with 1 Axes>"
            ],
            "image/png": "[encoded data removed]"
          },
          "metadata": {}
        }
      ]
    },
    {
      "cell_type": "code",
      "source": [],
      "metadata": {
        "id": "e3BXtEPOeFm3"
      },
      "execution_count": null,
      "outputs": []
    }
  ]
}