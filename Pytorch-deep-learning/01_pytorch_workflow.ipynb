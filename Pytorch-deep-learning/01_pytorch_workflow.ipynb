{
  "nbformat": 4,
  "nbformat_minor": 0,
  "metadata": {
    "colab": {
      "provenance": [],
      "authorship_tag": "ABX9TyNnLvy4iS7AXFpI4QjwJhH9",
      "include_colab_link": true
    },
    "kernelspec": {
      "name": "python3",
      "display_name": "Python 3"
    },
    "language_info": {
      "name": "python"
    }
  },
  "cells": [
    {
      "cell_type": "markdown",
      "metadata": {
        "id": "view-in-github",
        "colab_type": "text"
      },
      "source": [
        "<a href=\"https://colab.research.google.com/github/Bolorooo24/CV-ML_labs/blob/main/Pytorch-deep-learning/01_pytorch_workflow.ipynb\" target=\"_parent\"><img src=\"https://colab.research.google.com/assets/colab-badge.svg\" alt=\"Open In Colab\"/></a>"
      ]
    },
    {
      "cell_type": "markdown",
      "source": [
        "# Pytorch workflow\n",
        "\n",
        "Let's explore a an example pytorch end-to-end workflow\n",
        "\n",
        "Resources:\n",
        "* Ground truth notebook - https://github.com/mrdbourke/pytorch-deep-learning/blob/main/01_pytorch_workflow.ipynb\n",
        "* Book version - https://www.learnpytorch.io/01_pytorch_workflow/\n",
        "* Ask a question - https://github.com/mrdbourke/pytorch-deep-learning/discussions"
      ],
      "metadata": {
        "id": "ul-2cEb9khb3"
      }
    },
    {
      "cell_type": "code",
      "source": [
        "what_were_covering = {1: \"data prepare and load\",\n",
        "                      2: \"build model\",\n",
        "                      3: \"fitting the model to data (training)\",\n",
        "                      4: \"making predictions and evaluating a model\",\n",
        "                      5: \"save and load a model\",\n",
        "                      6: \"putting it all together\"}\n",
        "\n",
        "what_were_covering"
      ],
      "metadata": {
        "colab": {
          "base_uri": "https://localhost:8080/"
        },
        "id": "5HqKWLbEla4n",
        "outputId": "a93f43bb-59b1-47d4-9967-3b62a2c4e314"
      },
      "execution_count": 1,
      "outputs": [
        {
          "output_type": "execute_result",
          "data": {
            "text/plain": [
              "{1: 'data prepare and load',\n",
              " 2: 'build model',\n",
              " 3: 'fitting the model to data (training)',\n",
              " 4: 'making predictions and evaluating a model',\n",
              " 5: 'save and load a model',\n",
              " 6: 'putting it all together'}"
            ]
          },
          "metadata": {},
          "execution_count": 1
        }
      ]
    },
    {
      "cell_type": "code",
      "source": [
        "import torch\n",
        "from torch import nn\n",
        "import matplotlib.pyplot as plt\n",
        "\n",
        "torch.__version__"
      ],
      "metadata": {
        "colab": {
          "base_uri": "https://localhost:8080/",
          "height": 36
        },
        "id": "DGC0VNxxnkPs",
        "outputId": "df076b0e-6a3d-4567-f587-5ed041cb3bcc"
      },
      "execution_count": 2,
      "outputs": [
        {
          "output_type": "execute_result",
          "data": {
            "text/plain": [
              "'2.8.0+cu126'"
            ],
            "application/vnd.google.colaboratory.intrinsic+json": {
              "type": "string"
            }
          },
          "metadata": {},
          "execution_count": 2
        }
      ]
    },
    {
      "cell_type": "markdown",
      "source": [
        "## 1. Data preparing and loading\n",
        "Data can be almost anything.. in machine learning\n",
        "\n",
        "* excel spreadsheet\n",
        "* images  \n",
        "* vidoes\n",
        "* audio\n",
        "* dna\n",
        "* text\n",
        "\n",
        "Machine learning is a game of two parts:\n",
        "1. get data into a numerical Representation\n",
        "2. build a model to learn patterns\n",
        "\n",
        "Let's create some data.\n",
        "\n",
        "We'll use a linear regression formula to make straight line with known parameters\n"
      ],
      "metadata": {
        "id": "9giRiGqZo7-L"
      }
    },
    {
      "cell_type": "code",
      "source": [
        "#create known parameters\n",
        "weight = 0.7\n",
        "bias = 0.3\n",
        "\n",
        "# create\n",
        "start = 0\n",
        "end = 1\n",
        "step = 0.02\n",
        "\n",
        "# capital letter is matrix/tensor, lower letter is a vector\n",
        "X = torch.arange(start, end, step).unsqueeze(dim=1)\n",
        "y = weight * X + bias\n",
        "\n",
        "X[:10], y[:10]"
      ],
      "metadata": {
        "colab": {
          "base_uri": "https://localhost:8080/"
        },
        "id": "p_OJ3LapTXDP",
        "outputId": "9b59c030-27e4-4574-d6e2-c6dd0e6fe19e"
      },
      "execution_count": 3,
      "outputs": [
        {
          "output_type": "execute_result",
          "data": {
            "text/plain": [
              "(tensor([[0.0000],\n",
              "         [0.0200],\n",
              "         [0.0400],\n",
              "         [0.0600],\n",
              "         [0.0800],\n",
              "         [0.1000],\n",
              "         [0.1200],\n",
              "         [0.1400],\n",
              "         [0.1600],\n",
              "         [0.1800]]),\n",
              " tensor([[0.3000],\n",
              "         [0.3140],\n",
              "         [0.3280],\n",
              "         [0.3420],\n",
              "         [0.3560],\n",
              "         [0.3700],\n",
              "         [0.3840],\n",
              "         [0.3980],\n",
              "         [0.4120],\n",
              "         [0.4260]]))"
            ]
          },
          "metadata": {},
          "execution_count": 3
        }
      ]
    },
    {
      "cell_type": "code",
      "source": [
        "len(X), len(y)"
      ],
      "metadata": {
        "colab": {
          "base_uri": "https://localhost:8080/"
        },
        "id": "TOzneFIbUC9T",
        "outputId": "dff546b3-a749-42a0-8077-beb1c00e07fd"
      },
      "execution_count": 4,
      "outputs": [
        {
          "output_type": "execute_result",
          "data": {
            "text/plain": [
              "(50, 50)"
            ]
          },
          "metadata": {},
          "execution_count": 4
        }
      ]
    },
    {
      "cell_type": "markdown",
      "source": [
        "### Splitting data into training and test sets\n",
        "\n",
        "Let's create a training and test set our data\n",
        "\n"
      ],
      "metadata": {
        "id": "Zpa78CN7UIWV"
      }
    },
    {
      "cell_type": "code",
      "source": [
        "# create a train/test split\n",
        "\n",
        "train_split= int(0.8 * len(X))\n",
        "\n",
        "X_train, y_train = X[:train_split], y[:train_split]\n",
        "X_test, y_test = X[train_split:], y[train_split:]\n",
        "\n",
        "len(X_train), len(y_train), len(X_test), len(y_test)"
      ],
      "metadata": {
        "colab": {
          "base_uri": "https://localhost:8080/"
        },
        "id": "DTzIbCoHU9F4",
        "outputId": "54080721-16d1-4ea8-b2fb-100181cb4d76"
      },
      "execution_count": 5,
      "outputs": [
        {
          "output_type": "execute_result",
          "data": {
            "text/plain": [
              "(40, 40, 10, 10)"
            ]
          },
          "metadata": {},
          "execution_count": 5
        }
      ]
    },
    {
      "cell_type": "markdown",
      "source": [
        "How might we better visiualize out data?\n",
        "\n"
      ],
      "metadata": {
        "id": "ko16mV72W_Mh"
      }
    },
    {
      "cell_type": "code",
      "source": [
        "plt.scatter(X_train, y_train, color=\"pink\")\n",
        "\n",
        "plt.scatter(X_test, y_test, color=\"green\")\n",
        "\n",
        "plt.show()"
      ],
      "metadata": {
        "colab": {
          "base_uri": "https://localhost:8080/",
          "height": 430
        },
        "id": "p1FfyeTtVRdV",
        "outputId": "3657f505-becb-49b2-f1d9-7d9654062d50"
      },
      "execution_count": 6,
      "outputs": [
        {
          "output_type": "display_data",
          "data": {
            "text/plain": [
              "<Figure size 640x480 with 1 Axes>"
            ],
            "image/png": "[encoded data removed]"
          },
          "metadata": {}
        }
      ]
    },
    {
      "cell_type": "code",
      "source": [
        "def plot_predictions(train_data= X_train,\n",
        "                     train_labels= y_train,\n",
        "                     test_data = X_test,\n",
        "                     test_labels = y_test,\n",
        "                     predictions =None):\n",
        "  \"\"\"\n",
        "  Plots training and test data and compares predictions\n",
        "  \"\"\"\n",
        "  plt.figure(figsize=(10,7))\n",
        "\n",
        "  # plot trainin data in blue\n",
        "\n",
        "  plt.scatter(train_data, train_labels, c=\"b\", s=4, label = \"training data\")\n",
        "\n",
        "  # plot test data in green\n",
        "  plt.scatter(test_data, test_labels, c=\"g\", s=4, label = \"test data\")\n",
        "\n",
        "  # are there predictions?\n",
        "  if predictions is not None:\n",
        "    # plot the predictions if they exist\n",
        "    plt.scatter(test_data, predictions, c=\"r\", s=4, label = \"predictions\")\n",
        "\n",
        "  # show the legend\n",
        "  plt.legend(prop={\"size\":14});\n",
        "\n"
      ],
      "metadata": {
        "id": "7mVqjhO0WHaX"
      },
      "execution_count": 7,
      "outputs": []
    },
    {
      "cell_type": "code",
      "source": [
        "plot_predictions()"
      ],
      "metadata": {
        "colab": {
          "base_uri": "https://localhost:8080/",
          "height": 444
        },
        "id": "8sAUT8ccXI-6",
        "outputId": "f3273cae-1e49-4dac-b41a-1568543e3757"
      },
      "execution_count": 8,
      "outputs": [
        {
          "output_type": "display_data",
          "data": {
            "text/plain": [
              "<Figure size 1000x700 with 1 Axes>"
            ],
            "image/png": "[encoded data removed]"
          },
          "metadata": {}
        }
      ]
    },
    {
      "cell_type": "markdown",
      "source": [
        "## 2. Build model\n",
        "\n",
        "Our first Pytorch model\n",
        "\n",
        "Because we're going to be building classes, we'd recommend getting familiar with OOP in Python, to do so you can use following resources: https://realpython.com/python3-object-oriented-programming/\n",
        "\n",
        "\n",
        "What our model does?\n",
        "* start with random val\n",
        "* look at training data and adjust the random values to better represent the ideal values (the w&b values  we used to create the data)\n",
        "\n",
        "How does it do so?\n",
        "Through 2 main algo:\n",
        "\n",
        "1. gradient descent - https://youtu.be/IHZwWFHWa-w?si=GZASXYIm1VIiAap2\n",
        "2. backpropagation - https://youtu.be/Ilg3gGewQ5U?si=ViOh5BZhVs9RgRPx|"
      ],
      "metadata": {
        "id": "QQyeDectYbZU"
      }
    },
    {
      "cell_type": "code",
      "source": [
        "from torch import nn\n",
        "# create linear regression model class\n",
        "class LinearRegressionModel(nn.Module): # <- almost everything is build based on nn.Module\n",
        "  def __init__(self):\n",
        "    super().__init__()\n",
        "    self.weights = nn.Parameter(torch.randn(1, # start with random weights and try to adjust it to the ideal weight\n",
        "                                            requires_grad=True, # can this parameter be updated via gradient descent\n",
        "                                            dtype=torch.float)) # pytorch loves the datatype torch.float32\n",
        "    self.bias = nn.Parameter(torch.randn(1,\n",
        "                                          requires_grad=True,\n",
        "                                          dtype=torch.float))\n",
        "    # forward method to define the computation in the model\n",
        "\n",
        "  def forward(self, x: torch.Tensor) -> torch.Tensor: # x is the input data\n",
        "    return self.weights * x + self.bias # this is the linear regression model\n",
        "\n"
      ],
      "metadata": {
        "id": "I-RRrKToY7MD"
      },
      "execution_count": 9,
      "outputs": []
    },
    {
      "cell_type": "markdown",
      "source": [
        "### Pytorch model building essentials\n",
        "* torch.nn - contains all of the buildings for computational grahps\n",
        "* nn.Parameter - what parameters should our model try and learn often a pytroch sets for us\n",
        "* nn.Module - base class for all nn modules, if you subclass it, you should overwrite forward()\n",
        "* torch.optim - this where the optimizes the model which helps with gradient Descent\n",
        "* def forward() - all nn.module subclasses require you to overwrite forward(), this method defines what happens in the forward computation\n",
        "\n",
        "\n",
        "Pytroch essentials: https://docs.pytorch.org/tutorials/beginner/pytorch_with_examples.html\n"
      ],
      "metadata": {
        "id": "gvKzDYkzfX1d"
      }
    },
    {
      "cell_type": "markdown",
      "source": [
        "### Checking the contents of our pytorch model\n",
        "\n",
        "So we can check our model parameters or what's inside our model using .parameters()"
      ],
      "metadata": {
        "id": "Pft97csJhW5w"
      }
    },
    {
      "cell_type": "code",
      "source": [
        "# creaet a random seed\n",
        "torch.manual_seed(42)\n",
        "\n",
        "# create an instance of the model this is a subclass of nn.Module\n",
        "model_0 = LinearRegressionModel()\n",
        "\n",
        "# check out the parameters\n",
        "list(model_0.parameters())"
      ],
      "metadata": {
        "colab": {
          "base_uri": "https://localhost:8080/"
        },
        "id": "0Z3DMQj8idkk",
        "outputId": "97c2f4a9-427e-4ae2-a48e-0b46c4312d0c"
      },
      "execution_count": 10,
      "outputs": [
        {
          "output_type": "execute_result",
          "data": {
            "text/plain": [
              "[Parameter containing:\n",
              " tensor([0.3367], requires_grad=True),\n",
              " Parameter containing:\n",
              " tensor([0.1288], requires_grad=True)]"
            ]
          },
          "metadata": {},
          "execution_count": 10
        }
      ]
    },
    {
      "cell_type": "code",
      "source": [
        "# list named params\n",
        "model_0.state_dict()"
      ],
      "metadata": {
        "colab": {
          "base_uri": "https://localhost:8080/"
        },
        "id": "sXPsPPnoiwAz",
        "outputId": "f3e07add-8713-4772-ae51-d2cdaef1ad19"
      },
      "execution_count": 11,
      "outputs": [
        {
          "output_type": "execute_result",
          "data": {
            "text/plain": [
              "OrderedDict([('weights', tensor([0.3367])), ('bias', tensor([0.1288]))])"
            ]
          },
          "metadata": {},
          "execution_count": 11
        }
      ]
    },
    {
      "cell_type": "markdown",
      "source": [
        "### Making prediction using torch.inference_model\n",
        "\n",
        "to check our model's predictive power, let's see how well it predicts y_test based on X_test\n",
        "when we pass data through our model, it's going to run it through the forward() method."
      ],
      "metadata": {
        "id": "bF5Mg3nwml5X"
      }
    },
    {
      "cell_type": "code",
      "source": [
        "X_test, y_test"
      ],
      "metadata": {
        "colab": {
          "base_uri": "https://localhost:8080/"
        },
        "id": "ROdz046hnjaz",
        "outputId": "94bd179f-2f40-4f68-8956-75b88c46f10e"
      },
      "execution_count": 12,
      "outputs": [
        {
          "output_type": "execute_result",
          "data": {
            "text/plain": [
              "(tensor([[0.8000],\n",
              "         [0.8200],\n",
              "         [0.8400],\n",
              "         [0.8600],\n",
              "         [0.8800],\n",
              "         [0.9000],\n",
              "         [0.9200],\n",
              "         [0.9400],\n",
              "         [0.9600],\n",
              "         [0.9800]]),\n",
              " tensor([[0.8600],\n",
              "         [0.8740],\n",
              "         [0.8880],\n",
              "         [0.9020],\n",
              "         [0.9160],\n",
              "         [0.9300],\n",
              "         [0.9440],\n",
              "         [0.9580],\n",
              "         [0.9720],\n",
              "         [0.9860]]))"
            ]
          },
          "metadata": {},
          "execution_count": 12
        }
      ]
    },
    {
      "cell_type": "code",
      "source": [
        "# make predictions with model\n",
        "\n",
        "with torch.inference_mode():\n",
        "  y_preds = model_0(X_test)\n",
        "\n",
        "y_preds"
      ],
      "metadata": {
        "colab": {
          "base_uri": "https://localhost:8080/"
        },
        "id": "8-WXhiNJnU9a",
        "outputId": "c3490301-622b-47ba-ea45-943601fa0af8"
      },
      "execution_count": 13,
      "outputs": [
        {
          "output_type": "execute_result",
          "data": {
            "text/plain": [
              "tensor([[0.3982],\n",
              "        [0.4049],\n",
              "        [0.4116],\n",
              "        [0.4184],\n",
              "        [0.4251],\n",
              "        [0.4318],\n",
              "        [0.4386],\n",
              "        [0.4453],\n",
              "        [0.4520],\n",
              "        [0.4588]])"
            ]
          },
          "metadata": {},
          "execution_count": 13
        }
      ]
    },
    {
      "cell_type": "code",
      "source": [
        "plot_predictions(predictions=y_preds)"
      ],
      "metadata": {
        "colab": {
          "base_uri": "https://localhost:8080/",
          "height": 444
        },
        "id": "wCisgLJ_nmwE",
        "outputId": "13b596c3-27c2-4bfc-95d8-9f561a7a2933"
      },
      "execution_count": 14,
      "outputs": [
        {
          "output_type": "display_data",
          "data": {
            "text/plain": [
              "<Figure size 1000x700 with 1 Axes>"
            ],
            "image/png": "[encoded data removed]"
          },
          "metadata": {}
        }
      ]
    },
    {
      "cell_type": "markdown",
      "source": [
        "## 3. Train model\n",
        "\n",
        "The whole idea of training is for a mdoel to move from random parameters to some known parameters\n",
        "Or from a poor reprenstation of the data to a better representation of the data\n",
        "\n",
        "\n",
        "One way to measure how poor or how wrong your predictions are a loss functions.- https://docs.pytorch.org/docs/stable/nn.html#loss-functions\n",
        "\n",
        "* loss function may also be called cost function.\n",
        "\n",
        "\n",
        "Things we need to train:\n",
        "\n",
        "* **Loss function:** A function to measure how wrong your model's predictions are to the ideal outputs. Lower is better\n",
        "* **Optimizer:** Takes into account the loss of a mdoel and adjusts the model's parameters (weights&biases) to improve the loss function.\n",
        "1. Inside the optimizer you'll often have to set two parameters:\n",
        "* params - the model parameters you'd like to optimize\n",
        "* ls - the learning rate is a hyperparameter that defines how big/small the optimizer changes the parameters with each step\n",
        "\n",
        "And specialy for Pytorch, we need:\n",
        "* training loop\n",
        "* testing loop"
      ],
      "metadata": {
        "id": "L0Pf1KjWoDDR"
      }
    },
    {
      "cell_type": "code",
      "source": [
        "list(model_0.parameters())"
      ],
      "metadata": {
        "colab": {
          "base_uri": "https://localhost:8080/"
        },
        "id": "bFZ1nj72plzw",
        "outputId": "8ca45aab-1734-4064-a7c9-03259e143202"
      },
      "execution_count": 15,
      "outputs": [
        {
          "output_type": "execute_result",
          "data": {
            "text/plain": [
              "[Parameter containing:\n",
              " tensor([0.3367], requires_grad=True),\n",
              " Parameter containing:\n",
              " tensor([0.1288], requires_grad=True)]"
            ]
          },
          "metadata": {},
          "execution_count": 15
        }
      ]
    },
    {
      "cell_type": "code",
      "source": [
        "model_0.state_dict() # with label"
      ],
      "metadata": {
        "colab": {
          "base_uri": "https://localhost:8080/"
        },
        "id": "k9a1ozpmqLPZ",
        "outputId": "e3b22966-adfd-4e67-8564-fc7915f22a8d"
      },
      "execution_count": 16,
      "outputs": [
        {
          "output_type": "execute_result",
          "data": {
            "text/plain": [
              "OrderedDict([('weights', tensor([0.3367])), ('bias', tensor([0.1288]))])"
            ]
          },
          "metadata": {},
          "execution_count": 16
        }
      ]
    },
    {
      "cell_type": "code",
      "source": [
        "# setup a loss function\n",
        "loss_fn = nn.L1Loss()\n",
        "\n",
        "# setup the optimizer\n",
        "optimizer = torch.optim.SGD(params=model_0.parameters(),\n",
        "                            lr=0.01)"
      ],
      "metadata": {
        "id": "gyD3m2aqqRkC"
      },
      "execution_count": 17,
      "outputs": []
    },
    {
      "cell_type": "markdown",
      "source": [
        "**Q:** Which loss function and optimizer should i use?\n",
        "\n",
        "**A:** This will be problem specific. But with experience, you'll get an idea of what works and what doesn't with your particular problem set.\n",
        "\n",
        "For example, for a regression problem like ours, a loss function of nn.L1Loss() and an optimizer like torch.optim.SGD() will suffice.\n",
        "\n",
        "But for a classification problem like classyfing whether a photo is of a dog or a cat, you'll likely want to use a loss function of nn.BCELoss() binary cross entropy loss."
      ],
      "metadata": {
        "id": "ibGmMRDPQzgG"
      }
    },
    {
      "cell_type": "markdown",
      "source": [
        "### Builing a training loop in PyTorch\n",
        "A couple of thiengs we need in trianing loop:\n",
        "0. Loop trhough the data\n",
        "1. Forward pass (this involves data moving through our model's forward() functions ) - also called forward propagation\n",
        "2. Calculate the loss (compare forward pass predictions to ground truth labels)\n",
        "3. Optimizer zero grad\n",
        "4. Loss backward - move backwards through the network to calculate the gradients of each of the parameters of our mdoel with the loss /**backpropagation**/\n",
        "5. Optimizer step - use the optimizer to adjust our model's parameters to try and improve the loss /**gradient descent**/"
      ],
      "metadata": {
        "id": "xXvdtZDGsa0h"
      }
    },
    {
      "cell_type": "code",
      "source": [
        "torch.manual_seed(42)\n",
        "# an epoch is one loop through the data\n",
        "epochs = 200\n",
        "\n",
        "# Track different values\n",
        "epoch_count = []\n",
        "loss_values = []\n",
        "test_loss_values = []\n",
        "\n",
        "# loop through the data\n",
        "\n",
        "### Training\n",
        "# 0. Loop through the data\n",
        "for epoch in range(epochs):\n",
        "  # set the mdoel to training mode\n",
        "  model_0.train() # train mode in pytorch set all parameters that require to require\n",
        "\n",
        "  # 1. Forward pass\n",
        "  y_pred = model_0(X_train)\n",
        "\n",
        "  # 2. Calculate the loss\n",
        "  loss = loss_fn(y_pred, y_train)\n",
        "\n",
        "  # 3. Optimizer zero grad\n",
        "  optimizer.zero_grad()\n",
        "\n",
        "  # 4. Loss backward -perform backpropagation on the loss with respect to the pararms of the model\n",
        "  loss.backward()\n",
        "\n",
        "  # 5. Optimizer step\n",
        "  optimizer.step() # by default the optimizer changes will accumulate through the loop so.. we have to zero them above in step 3\n",
        "\n",
        "\n",
        "  model_0.eval() # turns off different settings in the model not needed for evaluation/testing (dropout/barch norm layers)\n",
        "  with torch.inference_mode(): # turns off gradient tracking\n",
        "  # with torch.no_grad(): # you may also see torch.no_grad() in older pytroch code\n",
        "    # 1. Do the forward pass\n",
        "    test_pred = model_0(X_test)\n",
        "\n",
        "    # 2. Calculate the loss\n",
        "    test_loss = loss_fn(test_pred, y_test)\n",
        "  if epoch % 10 == 0:\n",
        "    epoch_count.append(epoch)\n",
        "    loss_values.append(loss)\n",
        "    test_loss_values.append(test_loss)\n",
        "    print(f\"Epoch: {epoch} | Loss: {loss} | Test Loss: {test_loss}\")\n",
        "    print(model_0.state_dict())\n"
      ],
      "metadata": {
        "id": "23RUK8AUuIUv",
        "colab": {
          "base_uri": "https://localhost:8080/"
        },
        "outputId": "17ed0743-99fb-4d6d-9a8d-d26645eaaaa5"
      },
      "execution_count": 18,
      "outputs": [
        {
          "output_type": "stream",
          "name": "stdout",
          "text": [
            "Epoch: 0 | Loss: 0.31288138031959534 | Test Loss: 0.48106518387794495\n",
            "OrderedDict({'weights': tensor([0.3406]), 'bias': tensor([0.1388])})\n",
            "Epoch: 10 | Loss: 0.1976713240146637 | Test Loss: 0.3463551998138428\n",
            "OrderedDict({'weights': tensor([0.3796]), 'bias': tensor([0.2388])})\n",
            "Epoch: 20 | Loss: 0.08908725529909134 | Test Loss: 0.21729660034179688\n",
            "OrderedDict({'weights': tensor([0.4184]), 'bias': tensor([0.3333])})\n",
            "Epoch: 30 | Loss: 0.053148526698350906 | Test Loss: 0.14464017748832703\n",
            "OrderedDict({'weights': tensor([0.4512]), 'bias': tensor([0.3768])})\n",
            "Epoch: 40 | Loss: 0.04543796554207802 | Test Loss: 0.11360953003168106\n",
            "OrderedDict({'weights': tensor([0.4748]), 'bias': tensor([0.3868])})\n",
            "Epoch: 50 | Loss: 0.04167863354086876 | Test Loss: 0.09919948130846024\n",
            "OrderedDict({'weights': tensor([0.4938]), 'bias': tensor([0.3843])})\n",
            "Epoch: 60 | Loss: 0.03818932920694351 | Test Loss: 0.08886633068323135\n",
            "OrderedDict({'weights': tensor([0.5116]), 'bias': tensor([0.3788])})\n",
            "Epoch: 70 | Loss: 0.03476089984178543 | Test Loss: 0.0805937647819519\n",
            "OrderedDict({'weights': tensor([0.5288]), 'bias': tensor([0.3718])})\n",
            "Epoch: 80 | Loss: 0.03132382780313492 | Test Loss: 0.07232122868299484\n",
            "OrderedDict({'weights': tensor([0.5459]), 'bias': tensor([0.3648])})\n",
            "Epoch: 90 | Loss: 0.02788739837706089 | Test Loss: 0.06473556160926819\n",
            "OrderedDict({'weights': tensor([0.5629]), 'bias': tensor([0.3573])})\n",
            "Epoch: 100 | Loss: 0.024458957836031914 | Test Loss: 0.05646304413676262\n",
            "OrderedDict({'weights': tensor([0.5800]), 'bias': tensor([0.3503])})\n",
            "Epoch: 110 | Loss: 0.021020207554101944 | Test Loss: 0.04819049686193466\n",
            "OrderedDict({'weights': tensor([0.5972]), 'bias': tensor([0.3433])})\n",
            "Epoch: 120 | Loss: 0.01758546568453312 | Test Loss: 0.04060482233762741\n",
            "OrderedDict({'weights': tensor([0.6141]), 'bias': tensor([0.3358])})\n",
            "Epoch: 130 | Loss: 0.014155393466353416 | Test Loss: 0.03233227878808975\n",
            "OrderedDict({'weights': tensor([0.6313]), 'bias': tensor([0.3288])})\n",
            "Epoch: 140 | Loss: 0.010716589167714119 | Test Loss: 0.024059748277068138\n",
            "OrderedDict({'weights': tensor([0.6485]), 'bias': tensor([0.3218])})\n",
            "Epoch: 150 | Loss: 0.0072835334576666355 | Test Loss: 0.016474086791276932\n",
            "OrderedDict({'weights': tensor([0.6654]), 'bias': tensor([0.3143])})\n",
            "Epoch: 160 | Loss: 0.0038517764769494534 | Test Loss: 0.008201557211577892\n",
            "OrderedDict({'weights': tensor([0.6826]), 'bias': tensor([0.3073])})\n",
            "Epoch: 170 | Loss: 0.008932482451200485 | Test Loss: 0.005023092031478882\n",
            "OrderedDict({'weights': tensor([0.6951]), 'bias': tensor([0.2993])})\n",
            "Epoch: 180 | Loss: 0.008932482451200485 | Test Loss: 0.005023092031478882\n",
            "OrderedDict({'weights': tensor([0.6951]), 'bias': tensor([0.2993])})\n",
            "Epoch: 190 | Loss: 0.008932482451200485 | Test Loss: 0.005023092031478882\n",
            "OrderedDict({'weights': tensor([0.6951]), 'bias': tensor([0.2993])})\n"
          ]
        }
      ]
    },
    {
      "cell_type": "code",
      "source": [
        "import numpy as np\n",
        "plt.plot(epoch_count, np.array(torch.tensor(loss_values).numpy()), label=\"train loss\")\n",
        "plt.plot(epoch_count, np.array(torch.tensor(test_loss_values).numpy()), label=\"test loss\")\n",
        "plt.title(\"Training and test loss curves\")\n",
        "plt.ylabel(\"Loss\")\n",
        "plt.xlabel(\"Epochs\")\n",
        "plt.legend()"
      ],
      "metadata": {
        "colab": {
          "base_uri": "https://localhost:8080/",
          "height": 561
        },
        "id": "HY1Q6v93XyuJ",
        "outputId": "b2ad83bd-0c20-4a68-8307-58e0ab012810"
      },
      "execution_count": 19,
      "outputs": [
        {
          "output_type": "stream",
          "name": "stderr",
          "text": [
            "/tmp/ipython-input-193336161.py:2: UserWarning: Converting a tensor with requires_grad=True to a scalar may lead to unexpected behavior.\n",
            "Consider using tensor.detach() first. (Triggered internally at /pytorch/torch/csrc/autograd/generated/python_variable_methods.cpp:835.)\n",
            "  plt.plot(epoch_count, np.array(torch.tensor(loss_values).numpy()), label=\"train loss\")\n"
          ]
        },
        {
          "output_type": "execute_result",
          "data": {
            "text/plain": [
              "<matplotlib.legend.Legend at 0x7c303729e450>"
            ]
          },
          "metadata": {},
          "execution_count": 19
        },
        {
          "output_type": "display_data",
          "data": {
            "text/plain": [
              "<Figure size 640x480 with 1 Axes>"
            ],
            "image/png": "[encoded data removed]"
          },
          "metadata": {}
        }
      ]
    },
    {
      "cell_type": "code",
      "source": [
        "with torch.inference_mode():\n",
        "  y_preds_new = model_0(X_test)\n",
        "\n"
      ],
      "metadata": {
        "id": "fhmblDgJScty"
      },
      "execution_count": 20,
      "outputs": []
    },
    {
      "cell_type": "code",
      "source": [
        "model_0.state_dict()"
      ],
      "metadata": {
        "id": "DoDNTzrfwUMv",
        "colab": {
          "base_uri": "https://localhost:8080/"
        },
        "outputId": "457c02a9-5a02-4c5c-ec00-cac78d5c1d68"
      },
      "execution_count": 21,
      "outputs": [
        {
          "output_type": "execute_result",
          "data": {
            "text/plain": [
              "OrderedDict([('weights', tensor([0.6990])), ('bias', tensor([0.3093]))])"
            ]
          },
          "metadata": {},
          "execution_count": 21
        }
      ]
    },
    {
      "cell_type": "code",
      "source": [
        "plot_predictions(predictions = y_preds)"
      ],
      "metadata": {
        "colab": {
          "base_uri": "https://localhost:8080/",
          "height": 444
        },
        "id": "JXsW4GSKRkEj",
        "outputId": "1a9f6a3f-b30a-421f-90de-18ffbae9ce9c"
      },
      "execution_count": 22,
      "outputs": [
        {
          "output_type": "display_data",
          "data": {
            "text/plain": [
              "<Figure size 1000x700 with 1 Axes>"
            ],
            "image/png": "[encoded data removed]"
          },
          "metadata": {}
        }
      ]
    },
    {
      "cell_type": "code",
      "source": [
        "plot_predictions(predictions=y_preds_new)"
      ],
      "metadata": {
        "colab": {
          "base_uri": "https://localhost:8080/",
          "height": 444
        },
        "id": "dxABrxEVTZc_",
        "outputId": "b1073844-3ba9-4d14-ee75-4c5b92b42deb"
      },
      "execution_count": 23,
      "outputs": [
        {
          "output_type": "display_data",
          "data": {
            "text/plain": [
              "<Figure size 1000x700 with 1 Axes>"
            ],
            "image/png": "[encoded data removed]"
          },
          "metadata": {}
        }
      ]
    },
    {
      "cell_type": "markdown",
      "source": [
        "## Saving a model in PyTorch\n",
        "\n",
        "There are 3 main methods you should know about for saving and loading models in PyTorch.\n",
        "\n",
        "1. 'torch_save()' - allows you save a Pytorch object in python's pickle format.\n",
        "2. 'torch.load()' - allows you load a saved Pytorch  object\n",
        "3. 'torch.nn.Module.load_state_dict()' - allows to load a model's saved state dictionary\n",
        "\n",
        "Pytorch save & load code tutorial, Learn more: https://docs.pytorch.org/tutorials/beginner/saving_loading_models.html\n"
      ],
      "metadata": {
        "id": "wAQ_4b9KTcqf"
      }
    },
    {
      "cell_type": "code",
      "source": [
        "# saving our pytorch model\n",
        "from pathlib import Path\n",
        "\n",
        "# 1. create models directory\n",
        "\n",
        "MODEL_PATH  = Path(\"models\")\n",
        "MODEL_PATH.mkdir(parents=True,\n",
        "                 exist_ok=True)\n",
        "\n",
        "# 2. Create model save path\n",
        "MODEL_NAME = '01_pytorch_workflow_model_0.pth'\n",
        "MODEL_SAVE_PATH = MODEL_PATH / MODEL_NAME\n",
        "\n",
        "# save the model in state_dict()\n",
        "print(f\"Saving model to : {MODEL_SAVE_PATH}\")\n",
        "torch.save(obj=model_0.state_dict(),\n",
        "           f=MODEL_SAVE_PATH)\n"
      ],
      "metadata": {
        "colab": {
          "base_uri": "https://localhost:8080/"
        },
        "id": "_dy0XeLnaNVD",
        "outputId": "6f17de3f-74e5-456c-acdc-750ce6083a1a"
      },
      "execution_count": 24,
      "outputs": [
        {
          "output_type": "stream",
          "name": "stdout",
          "text": [
            "Saving model to : models/01_pytorch_workflow_model_0.pth\n"
          ]
        }
      ]
    },
    {
      "cell_type": "code",
      "source": [
        "!ls -l models"
      ],
      "metadata": {
        "colab": {
          "base_uri": "https://localhost:8080/"
        },
        "id": "eos3C8YRa6Rj",
        "outputId": "0c95a43d-40dc-4575-bbf3-0a9118841eee"
      },
      "execution_count": 25,
      "outputs": [
        {
          "output_type": "stream",
          "name": "stdout",
          "text": [
            "total 4\n",
            "-rw-r--r-- 1 root root 2117 Oct 27 23:37 01_pytorch_workflow_model_0.pth\n"
          ]
        }
      ]
    },
    {
      "cell_type": "markdown",
      "source": [
        "## Loading a pytroch model\n",
        "\n",
        "Since we saved our model's state_dict() rather the entire model, we'll create a new instance of our model class and load the saved 'state_dict()' into that."
      ],
      "metadata": {
        "id": "z0c6Q_5TdfEW"
      }
    },
    {
      "cell_type": "code",
      "source": [
        "model_0.state_dict()"
      ],
      "metadata": {
        "colab": {
          "base_uri": "https://localhost:8080/"
        },
        "id": "Rj_W8-nsd1F8",
        "outputId": "dff15d25-29ff-437a-dfb4-938f38690949"
      },
      "execution_count": 26,
      "outputs": [
        {
          "output_type": "execute_result",
          "data": {
            "text/plain": [
              "OrderedDict([('weights', tensor([0.6990])), ('bias', tensor([0.3093]))])"
            ]
          },
          "metadata": {},
          "execution_count": 26
        }
      ]
    },
    {
      "cell_type": "code",
      "source": [
        "# to load in a save state_dict we have to instantiate a new instance of our model class\n",
        "\n",
        "loaded_model_0 = LinearRegressionModel()\n",
        "\n",
        "# load the save state_dict of model_0 this will update the new instance with updated parameters\n",
        "loaded_model_0.load_state_dict(torch.load(f=MODEL_SAVE_PATH))"
      ],
      "metadata": {
        "colab": {
          "base_uri": "https://localhost:8080/"
        },
        "id": "Kc6jEWhrbdOg",
        "outputId": "2875a623-5624-4fec-99c2-c8b923b12a5f"
      },
      "execution_count": 27,
      "outputs": [
        {
          "output_type": "execute_result",
          "data": {
            "text/plain": [
              "<All keys matched successfully>"
            ]
          },
          "metadata": {},
          "execution_count": 27
        }
      ]
    },
    {
      "cell_type": "code",
      "source": [
        "loaded_model_0.state_dict()"
      ],
      "metadata": {
        "colab": {
          "base_uri": "https://localhost:8080/"
        },
        "id": "HzrU8SmsdKzc",
        "outputId": "970c343c-2094-4447-d87e-279702be5ccd"
      },
      "execution_count": 28,
      "outputs": [
        {
          "output_type": "execute_result",
          "data": {
            "text/plain": [
              "OrderedDict([('weights', tensor([0.6990])), ('bias', tensor([0.3093]))])"
            ]
          },
          "metadata": {},
          "execution_count": 28
        }
      ]
    },
    {
      "cell_type": "code",
      "source": [
        "from pickle import load\n",
        "# make some predictions with our loaded model\n",
        "\n",
        "loaded_model_0.eval()\n",
        "with torch.inference_mode():\n",
        "  loaded_model_preds = loaded_model_0(X_test)\n",
        "\n",
        "loaded_model_preds"
      ],
      "metadata": {
        "colab": {
          "base_uri": "https://localhost:8080/"
        },
        "id": "QtfraWB-ecYw",
        "outputId": "cfd681d4-4c7e-47c4-8c9f-d36c0994ee10"
      },
      "execution_count": 29,
      "outputs": [
        {
          "output_type": "execute_result",
          "data": {
            "text/plain": [
              "tensor([[0.8685],\n",
              "        [0.8825],\n",
              "        [0.8965],\n",
              "        [0.9105],\n",
              "        [0.9245],\n",
              "        [0.9384],\n",
              "        [0.9524],\n",
              "        [0.9664],\n",
              "        [0.9804],\n",
              "        [0.9944]])"
            ]
          },
          "metadata": {},
          "execution_count": 29
        }
      ]
    },
    {
      "cell_type": "code",
      "source": [
        "# compare loaded model preds with originial model preds\n",
        "y_preds_new == loaded_model_preds"
      ],
      "metadata": {
        "colab": {
          "base_uri": "https://localhost:8080/"
        },
        "id": "weIz-va2euQg",
        "outputId": "3319dc6f-dfc1-4875-b685-f13eb34ca2c4"
      },
      "execution_count": 30,
      "outputs": [
        {
          "output_type": "execute_result",
          "data": {
            "text/plain": [
              "tensor([[True],\n",
              "        [True],\n",
              "        [True],\n",
              "        [True],\n",
              "        [True],\n",
              "        [True],\n",
              "        [True],\n",
              "        [True],\n",
              "        [True],\n",
              "        [True]])"
            ]
          },
          "metadata": {},
          "execution_count": 30
        }
      ]
    },
    {
      "cell_type": "markdown",
      "source": [
        "## 6. Putting it all together\n",
        "Let's go back through the steps above and see it all in one place\n"
      ],
      "metadata": {
        "id": "cbhunjr3e1ru"
      }
    },
    {
      "cell_type": "code",
      "source": [
        "# imprt pytorch and matplotlib\n",
        "import torch\n",
        "from torch import nn\n",
        "import matplotlib.pyplot as plt\n",
        "\n",
        "# check pytorch version\n",
        "torch.__version__"
      ],
      "metadata": {
        "colab": {
          "base_uri": "https://localhost:8080/",
          "height": 36
        },
        "id": "CuGimr0wfjQY",
        "outputId": "f825baed-dda7-4ac2-d548-f7fdb2b32f34"
      },
      "execution_count": 31,
      "outputs": [
        {
          "output_type": "execute_result",
          "data": {
            "text/plain": [
              "'2.8.0+cu126'"
            ],
            "application/vnd.google.colaboratory.intrinsic+json": {
              "type": "string"
            }
          },
          "metadata": {},
          "execution_count": 31
        }
      ]
    },
    {
      "cell_type": "markdown",
      "source": [
        "Create device-agnostic code.\n",
        "\n",
        "This means if we've got access to a GPU, our code will use it for potentially faster computing.else\n",
        "If no GPU is available, the code will default to using CPU."
      ],
      "metadata": {
        "id": "y_Y_1ofEf45Q"
      }
    },
    {
      "cell_type": "code",
      "source": [
        "# setup device agnostic code\n",
        "device = \"cuda\" if torch.cuda.is_available() else \"cpu\"\n",
        "print(f\"Using device: {device}\")"
      ],
      "metadata": {
        "colab": {
          "base_uri": "https://localhost:8080/"
        },
        "id": "o40TVZ5jf0iJ",
        "outputId": "0d10c040-2ed9-44f2-b8eb-d962fe8de4d5"
      },
      "execution_count": 32,
      "outputs": [
        {
          "output_type": "stream",
          "name": "stdout",
          "text": [
            "Using device: cpu\n"
          ]
        }
      ]
    },
    {
      "cell_type": "code",
      "source": [
        "!nvidia-smi"
      ],
      "metadata": {
        "colab": {
          "base_uri": "https://localhost:8080/"
        },
        "id": "tfMVIrtDgVDQ",
        "outputId": "ab7f675d-fa33-4351-80a1-948194e59e79"
      },
      "execution_count": 33,
      "outputs": [
        {
          "output_type": "stream",
          "name": "stdout",
          "text": [
            "/bin/bash: line 1: nvidia-smi: command not found\n"
          ]
        }
      ]
    },
    {
      "cell_type": "markdown",
      "source": [
        "### 6.1 Data"
      ],
      "metadata": {
        "id": "2XCiDM1xggmO"
      }
    },
    {
      "cell_type": "code",
      "source": [
        "# create some data using the linear regression formula y = weight * X + bias\n",
        "\n",
        "weight = 0.7\n",
        "bias = 0.3\n",
        "\n",
        "# create range values\n",
        "start = 0\n",
        "end = 1\n",
        "step = 0.02\n",
        "\n",
        "# create X and y (features and labels)\n",
        "\n",
        "X = torch.arange(start, end, step).unsqueeze(dim=1)\n",
        "y = weight * X + bias\n",
        "X, y"
      ],
      "metadata": {
        "id": "Gh4FMi67goA5",
        "colab": {
          "base_uri": "https://localhost:8080/"
        },
        "outputId": "612f26ec-f2a9-466c-8179-edf10906c894"
      },
      "execution_count": 34,
      "outputs": [
        {
          "output_type": "execute_result",
          "data": {
            "text/plain": [
              "(tensor([[0.0000],\n",
              "         [0.0200],\n",
              "         [0.0400],\n",
              "         [0.0600],\n",
              "         [0.0800],\n",
              "         [0.1000],\n",
              "         [0.1200],\n",
              "         [0.1400],\n",
              "         [0.1600],\n",
              "         [0.1800],\n",
              "         [0.2000],\n",
              "         [0.2200],\n",
              "         [0.2400],\n",
              "         [0.2600],\n",
              "         [0.2800],\n",
              "         [0.3000],\n",
              "         [0.3200],\n",
              "         [0.3400],\n",
              "         [0.3600],\n",
              "         [0.3800],\n",
              "         [0.4000],\n",
              "         [0.4200],\n",
              "         [0.4400],\n",
              "         [0.4600],\n",
              "         [0.4800],\n",
              "         [0.5000],\n",
              "         [0.5200],\n",
              "         [0.5400],\n",
              "         [0.5600],\n",
              "         [0.5800],\n",
              "         [0.6000],\n",
              "         [0.6200],\n",
              "         [0.6400],\n",
              "         [0.6600],\n",
              "         [0.6800],\n",
              "         [0.7000],\n",
              "         [0.7200],\n",
              "         [0.7400],\n",
              "         [0.7600],\n",
              "         [0.7800],\n",
              "         [0.8000],\n",
              "         [0.8200],\n",
              "         [0.8400],\n",
              "         [0.8600],\n",
              "         [0.8800],\n",
              "         [0.9000],\n",
              "         [0.9200],\n",
              "         [0.9400],\n",
              "         [0.9600],\n",
              "         [0.9800]]),\n",
              " tensor([[0.3000],\n",
              "         [0.3140],\n",
              "         [0.3280],\n",
              "         [0.3420],\n",
              "         [0.3560],\n",
              "         [0.3700],\n",
              "         [0.3840],\n",
              "         [0.3980],\n",
              "         [0.4120],\n",
              "         [0.4260],\n",
              "         [0.4400],\n",
              "         [0.4540],\n",
              "         [0.4680],\n",
              "         [0.4820],\n",
              "         [0.4960],\n",
              "         [0.5100],\n",
              "         [0.5240],\n",
              "         [0.5380],\n",
              "         [0.5520],\n",
              "         [0.5660],\n",
              "         [0.5800],\n",
              "         [0.5940],\n",
              "         [0.6080],\n",
              "         [0.6220],\n",
              "         [0.6360],\n",
              "         [0.6500],\n",
              "         [0.6640],\n",
              "         [0.6780],\n",
              "         [0.6920],\n",
              "         [0.7060],\n",
              "         [0.7200],\n",
              "         [0.7340],\n",
              "         [0.7480],\n",
              "         [0.7620],\n",
              "         [0.7760],\n",
              "         [0.7900],\n",
              "         [0.8040],\n",
              "         [0.8180],\n",
              "         [0.8320],\n",
              "         [0.8460],\n",
              "         [0.8600],\n",
              "         [0.8740],\n",
              "         [0.8880],\n",
              "         [0.9020],\n",
              "         [0.9160],\n",
              "         [0.9300],\n",
              "         [0.9440],\n",
              "         [0.9580],\n",
              "         [0.9720],\n",
              "         [0.9860]]))"
            ]
          },
          "metadata": {},
          "execution_count": 34
        }
      ]
    },
    {
      "cell_type": "code",
      "source": [
        "# split data\n",
        "train_split = int(0.8 * len(X))\n",
        "X_train, y_train = X[:train_split], y[:train_split]\n",
        "X_test, y_test = X[train_split:], y[train_split:]\n",
        "len(X_train), len(y_train), len(X_test), len(y_test)"
      ],
      "metadata": {
        "colab": {
          "base_uri": "https://localhost:8080/"
        },
        "id": "plXEbquPhM8F",
        "outputId": "02e9182f-5cbf-44fb-9055-1690c4409383"
      },
      "execution_count": 35,
      "outputs": [
        {
          "output_type": "execute_result",
          "data": {
            "text/plain": [
              "(40, 40, 10, 10)"
            ]
          },
          "metadata": {},
          "execution_count": 35
        }
      ]
    },
    {
      "cell_type": "code",
      "source": [
        "# plot the data\n",
        "# note: if you don't have plot_prediciton function loaded,this will error\n",
        "plot_predictions(X_train, y_train, X_test, y_test)"
      ],
      "metadata": {
        "colab": {
          "base_uri": "https://localhost:8080/",
          "height": 444
        },
        "id": "zJ1ykuoWhnS4",
        "outputId": "c9c12f76-9e2e-41c4-97ab-698b0c7057a5"
      },
      "execution_count": 36,
      "outputs": [
        {
          "output_type": "display_data",
          "data": {
            "text/plain": [
              "<Figure size 1000x700 with 1 Axes>"
            ],
            "image/png": "[encoded data removed]"
          },
          "metadata": {}
        }
      ]
    },
    {
      "cell_type": "markdown",
      "source": [
        "## 6.2 Building a pytorch linear model"
      ],
      "metadata": {
        "id": "RD2qIbT8hzbl"
      }
    },
    {
      "cell_type": "code",
      "source": [
        "## create a linear model by subclassing nn.Module\n",
        "\n",
        "class LinearRegressionModelV2(nn.Module):\n",
        "  def __init__(self):\n",
        "    super().__init__()\n",
        "    # use nn.linear() for creating the model params\n",
        "    self.linear_layer = nn.Linear(in_features=1,\n",
        "                                  out_features=1)\n",
        "  def forward(self, x: torch.Tensor) -> torch.Tensor:\n",
        "    return self.linear_layer(x)\n",
        "# set the manual seed\n",
        "torch.manual_seed(42)\n",
        "model_1 = LinearRegressionModelV2()\n",
        "model_1, model_1.state_dict()"
      ],
      "metadata": {
        "colab": {
          "base_uri": "https://localhost:8080/"
        },
        "id": "9eeUX3Goh-FI",
        "outputId": "bd9efa37-dc1e-42f7-89d3-54ac44a7c25b"
      },
      "execution_count": 37,
      "outputs": [
        {
          "output_type": "execute_result",
          "data": {
            "text/plain": [
              "(LinearRegressionModelV2(\n",
              "   (linear_layer): Linear(in_features=1, out_features=1, bias=True)\n",
              " ),\n",
              " OrderedDict([('linear_layer.weight', tensor([[0.7645]])),\n",
              "              ('linear_layer.bias', tensor([0.8300]))]))"
            ]
          },
          "metadata": {},
          "execution_count": 37
        }
      ]
    },
    {
      "cell_type": "code",
      "source": [
        "# check the model current device\n",
        "next(model_1.parameters()).device"
      ],
      "metadata": {
        "colab": {
          "base_uri": "https://localhost:8080/"
        },
        "id": "oRIzMPbtTp9-",
        "outputId": "9d43ee80-40d4-40cc-c5e4-6dbb94e4671a"
      },
      "execution_count": 38,
      "outputs": [
        {
          "output_type": "execute_result",
          "data": {
            "text/plain": [
              "device(type='cpu')"
            ]
          },
          "metadata": {},
          "execution_count": 38
        }
      ]
    },
    {
      "cell_type": "code",
      "source": [
        "# Set the model to use the target device\n",
        "model_1.to(device)\n",
        "next(model_1.parameters()).device"
      ],
      "metadata": {
        "id": "MxqfPfDcjOgg",
        "colab": {
          "base_uri": "https://localhost:8080/"
        },
        "outputId": "7a2d1d02-92ef-45d9-c0e8-cc6c20301a33"
      },
      "execution_count": 39,
      "outputs": [
        {
          "output_type": "execute_result",
          "data": {
            "text/plain": [
              "device(type='cpu')"
            ]
          },
          "metadata": {},
          "execution_count": 39
        }
      ]
    },
    {
      "cell_type": "markdown",
      "source": [
        "### 6.3 Training\n",
        "\n",
        "For training we need:\n",
        "* Loss function\n",
        "* Optimizer\n",
        "* Training Loop\n",
        "* Testing Loop"
      ],
      "metadata": {
        "id": "Lsnhqt13T13P"
      }
    },
    {
      "cell_type": "code",
      "source": [
        "# setup the loss function\n",
        "loss_fn = nn.L1Loss()\n",
        "\n",
        "# setup our optimizer\n",
        "optimizer = torch.optim.SGD(params = model_1.parameters(),\n",
        "                            lr = 0.01)\n"
      ],
      "metadata": {
        "id": "2xh5-N7AUE71"
      },
      "execution_count": 40,
      "outputs": []
    },
    {
      "cell_type": "code",
      "source": [
        "# let's write a training loop\n",
        "torch.manual_seed(42)\n",
        "\n",
        "epochs = 200\n",
        "# put data on the target device (device agnostic code for data)\n",
        "\n",
        "# X_train = X_train.to(device)\n",
        "# y_train = y_train.to(device)\n",
        "# X_test = X_test.to(device)\n",
        "# y_test = y_test.to(device)\n",
        "\n",
        "for epoch in range(epochs):\n",
        "  model_1.train()\n",
        "\n",
        "  # 1. forward pass\n",
        "  y_pred = model_1(X_train)\n",
        "\n",
        "  # 2. calculate the loss\n",
        "  loss = loss_fn(y_pred, y_train)\n",
        "\n",
        "  # 3. optimizer zero grad\n",
        "  optimizer.zero_grad()\n",
        "\n",
        "  # 4. perform backprpagation\n",
        "  loss.backward()\n",
        "\n",
        "  # 5. optimizer step\n",
        "  optimizer.step()\n",
        "\n",
        "  ### testing\n",
        "  model_1.eval()\n",
        "  with torch.inference_mode():\n",
        "    test_pred = model_1(X_test)\n",
        "\n",
        "    test_loss = loss_fn(test_pred, y_test)\n",
        "  # print our what's happening\n",
        "  if epoch % 10 == 0:\n",
        "    print(f\"Epoch: {epoch} | Loss: {loss} | Test Loss: {test_loss}\")"
      ],
      "metadata": {
        "colab": {
          "base_uri": "https://localhost:8080/"
        },
        "id": "vXczRN4GUS1-",
        "outputId": "6b0637ac-be50-482d-bfc9-1d9fabedaef8"
      },
      "execution_count": 42,
      "outputs": [
        {
          "output_type": "stream",
          "name": "stdout",
          "text": [
            "Epoch: 0 | Loss: 0.5436569452285767 | Test Loss: 0.5605052709579468\n",
            "Epoch: 10 | Loss: 0.42844706773757935 | Test Loss: 0.42579537630081177\n",
            "Epoch: 20 | Loss: 0.31323719024658203 | Test Loss: 0.2910855710506439\n",
            "Epoch: 30 | Loss: 0.1980273276567459 | Test Loss: 0.1563757359981537\n",
            "Epoch: 40 | Loss: 0.0828174576163292 | Test Loss: 0.021665919572114944\n",
            "Epoch: 50 | Loss: 0.023356426507234573 | Test Loss: 0.048834484070539474\n",
            "Epoch: 60 | Loss: 0.019609849900007248 | Test Loss: 0.04538799077272415\n",
            "Epoch: 70 | Loss: 0.01618141308426857 | Test Loss: 0.03711546212434769\n",
            "Epoch: 80 | Loss: 0.012742981314659119 | Test Loss: 0.028842901811003685\n",
            "Epoch: 90 | Loss: 0.0093079237267375 | Test Loss: 0.02125726267695427\n",
            "Epoch: 100 | Loss: 0.005878164432942867 | Test Loss: 0.012984687462449074\n",
            "Epoch: 110 | Loss: 0.002439356641843915 | Test Loss: 0.004712158348411322\n",
            "Epoch: 120 | Loss: 0.010256484150886536 | Test Loss: 0.0003308236482553184\n",
            "Epoch: 130 | Loss: 0.010256484150886536 | Test Loss: 0.0003308236482553184\n",
            "Epoch: 140 | Loss: 0.010256484150886536 | Test Loss: 0.0003308236482553184\n",
            "Epoch: 150 | Loss: 0.010256484150886536 | Test Loss: 0.0003308236482553184\n",
            "Epoch: 160 | Loss: 0.010256484150886536 | Test Loss: 0.0003308236482553184\n",
            "Epoch: 170 | Loss: 0.010256484150886536 | Test Loss: 0.0003308236482553184\n",
            "Epoch: 180 | Loss: 0.010256484150886536 | Test Loss: 0.0003308236482553184\n",
            "Epoch: 190 | Loss: 0.010256484150886536 | Test Loss: 0.0003308236482553184\n"
          ]
        }
      ]
    },
    {
      "cell_type": "code",
      "source": [
        "model_1.state_dict()\n"
      ],
      "metadata": {
        "colab": {
          "base_uri": "https://localhost:8080/"
        },
        "id": "bYbeQE9CVTCA",
        "outputId": "53846aaa-5643-4ec7-d8fb-6f69ec6493f7"
      },
      "execution_count": 58,
      "outputs": [
        {
          "output_type": "execute_result",
          "data": {
            "text/plain": [
              "OrderedDict([('linear_layer.weight', tensor([[0.6929]])),\n",
              "             ('linear_layer.bias', tensor([0.2925]))])"
            ]
          },
          "metadata": {},
          "execution_count": 58
        }
      ]
    },
    {
      "cell_type": "code",
      "source": [
        "### 6.4 Making and evaluation mode\n",
        "\n",
        "model_1.eval()\n",
        "\n",
        "# make predictions on the test data\n",
        "with torch.inference_mode():\n",
        "  y_preds = model_1(X_test)\n",
        "y_preds"
      ],
      "metadata": {
        "colab": {
          "base_uri": "https://localhost:8080/"
        },
        "id": "alxpW2zCYxlz",
        "outputId": "4398a9de-df3f-47d5-88e8-70dab4e478cd"
      },
      "execution_count": 59,
      "outputs": [
        {
          "output_type": "execute_result",
          "data": {
            "text/plain": [
              "tensor([[0.8468],\n",
              "        [0.8607],\n",
              "        [0.8746],\n",
              "        [0.8884],\n",
              "        [0.9023],\n",
              "        [0.9161],\n",
              "        [0.9300],\n",
              "        [0.9438],\n",
              "        [0.9577],\n",
              "        [0.9716]])"
            ]
          },
          "metadata": {},
          "execution_count": 59
        }
      ]
    },
    {
      "cell_type": "code",
      "source": [
        "# check out our model predictions visually\n",
        "plot_predictions(predictions=y_preds)"
      ],
      "metadata": {
        "colab": {
          "base_uri": "https://localhost:8080/",
          "height": 444
        },
        "id": "IBG305UKZZZO",
        "outputId": "5f357842-2403-46f6-b87d-98f5bec40722"
      },
      "execution_count": 60,
      "outputs": [
        {
          "output_type": "display_data",
          "data": {
            "text/plain": [
              "<Figure size 1000x700 with 1 Axes>"
            ],
            "image/png": "[encoded data removed]"
          },
          "metadata": {}
        }
      ]
    },
    {
      "cell_type": "markdown",
      "source": [
        "### 6.5 Saving and loading a trained model"
      ],
      "metadata": {
        "id": "03K93ar9ZroZ"
      }
    },
    {
      "cell_type": "code",
      "source": [
        "from pathlib import Path\n",
        "# 1. create models directory\n",
        "MODEL_PATH = Path(\"models\")\n",
        "MODEL_PATH.mkdir(parents=True,\n",
        "                 exist_ok = True)\n",
        "\n",
        "# 2. create model save path\n",
        "MODEL_NAME = \"01_pytorch_workflow_model_1.pth\"\n",
        "MODEL_SAVE_PATH = MODEL_PATH / MODEL_NAME\n",
        "\n",
        "# 3. save the model state dict\n",
        "print(f\"Saving model to : {MODEL_SAVE_PATH}\")\n",
        "torch.save(obj=model_1.state_dict(),\n",
        "           f=MODEL_SAVE_PATH)"
      ],
      "metadata": {
        "colab": {
          "base_uri": "https://localhost:8080/"
        },
        "id": "8AuEy7axaDc6",
        "outputId": "b846b163-3e22-4ac5-d7d4-8ae0d7a5af83"
      },
      "execution_count": 61,
      "outputs": [
        {
          "output_type": "stream",
          "name": "stdout",
          "text": [
            "Saving model to : models/01_pytorch_workflow_model_1.pth\n"
          ]
        }
      ]
    },
    {
      "cell_type": "code",
      "source": [
        "# load a pytorch\n",
        "\n",
        "# create a new instance of linear regression model V2\n",
        "loaded_model_1 = LinearRegressionModelV2()\n",
        "\n",
        "# load the saved model_1 state_dict\n",
        "loaded_model_1.load_state_dict(torch.load(f=MODEL_SAVE_PATH))\n",
        "\n",
        "# put the loaded model to device\n",
        "loaded_model_1.to(device)"
      ],
      "metadata": {
        "colab": {
          "base_uri": "https://localhost:8080/"
        },
        "id": "umkNOC40amc5",
        "outputId": "af0d8db3-3215-4ade-d52d-40f96fee918a"
      },
      "execution_count": 62,
      "outputs": [
        {
          "output_type": "execute_result",
          "data": {
            "text/plain": [
              "LinearRegressionModelV2(\n",
              "  (linear_layer): Linear(in_features=1, out_features=1, bias=True)\n",
              ")"
            ]
          },
          "metadata": {},
          "execution_count": 62
        }
      ]
    },
    {
      "cell_type": "code",
      "source": [
        "next(loaded_model_1.parameters()).device"
      ],
      "metadata": {
        "colab": {
          "base_uri": "https://localhost:8080/"
        },
        "id": "YD_bPKBybtz9",
        "outputId": "0c254a61-5e98-4011-dab0-07ffae0376de"
      },
      "execution_count": 63,
      "outputs": [
        {
          "output_type": "execute_result",
          "data": {
            "text/plain": [
              "device(type='cpu')"
            ]
          },
          "metadata": {},
          "execution_count": 63
        }
      ]
    },
    {
      "cell_type": "code",
      "source": [
        "loaded_model_1.state_dict()\n"
      ],
      "metadata": {
        "colab": {
          "base_uri": "https://localhost:8080/"
        },
        "id": "bZbgPxSSb0aW",
        "outputId": "de9465b7-ee4f-48d2-c527-9ff681af71a2"
      },
      "execution_count": 64,
      "outputs": [
        {
          "output_type": "execute_result",
          "data": {
            "text/plain": [
              "OrderedDict([('linear_layer.weight', tensor([[0.6929]])),\n",
              "             ('linear_layer.bias', tensor([0.2925]))])"
            ]
          },
          "metadata": {},
          "execution_count": 64
        }
      ]
    },
    {
      "cell_type": "code",
      "source": [
        "# evaluate loaded model\n",
        "loaded_model_1.eval()\n",
        "with torch.inference_mode():\n",
        "  loaded_model_1_preds = loaded_model_1(X_test)\n",
        "y_preds == loaded_model_1_preds"
      ],
      "metadata": {
        "colab": {
          "base_uri": "https://localhost:8080/"
        },
        "id": "xqpg9hlYbzWR",
        "outputId": "f595841c-ca02-4288-ebe2-113cba709db6"
      },
      "execution_count": 65,
      "outputs": [
        {
          "output_type": "execute_result",
          "data": {
            "text/plain": [
              "tensor([[True],\n",
              "        [True],\n",
              "        [True],\n",
              "        [True],\n",
              "        [True],\n",
              "        [True],\n",
              "        [True],\n",
              "        [True],\n",
              "        [True],\n",
              "        [True]])"
            ]
          },
          "metadata": {},
          "execution_count": 65
        }
      ]
    },
    {
      "cell_type": "code",
      "source": [],
      "metadata": {
        "id": "3YyUoNlLcJB3"
      },
      "execution_count": null,
      "outputs": []
    }
  ]
}